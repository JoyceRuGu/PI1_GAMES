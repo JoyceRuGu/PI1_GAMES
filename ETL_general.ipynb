{
 "cells": [
  {
   "cell_type": "code",
   "execution_count": null,
   "metadata": {},
   "outputs": [],
   "source": [
    "# Importar librerias\n",
    "import pandas as pd\n",
    "import json\n",
    "import numpy as np\n",
    "from pandas import json_normalize\n",
    "from textblob import TextBlob"
   ]
  },
  {
   "cell_type": "markdown",
   "metadata": {},
   "source": [
    "1. Apertura y visualizacion primer archivo JSON."
   ]
  },
  {
   "cell_type": "code",
   "execution_count": null,
   "metadata": {},
   "outputs": [],
   "source": [
    "# Apertura del archivo output_steam_games\n",
    "Df_Games = pd.read_json('./file_json/output_steam_games.json', lines= True)\n",
    "# Visualización del DataFrame\n",
    "Df_Games.head()"
   ]
  },
  {
   "cell_type": "code",
   "execution_count": null,
   "metadata": {},
   "outputs": [],
   "source": [
    "# Información general de los datos cargados en el DataFrame\n",
    "Df_Games.info()"
   ]
  },
  {
   "cell_type": "code",
   "execution_count": null,
   "metadata": {},
   "outputs": [],
   "source": [
    "# Se valida los valores nulos \n",
    "Df_Games.isnull().sum()"
   ]
  },
  {
   "cell_type": "code",
   "execution_count": null,
   "metadata": {},
   "outputs": [],
   "source": [
    "# Se eliminan las columnas que no seran utilizadas para el proceso de modelado\n",
    "Df_Games.drop(['publisher','title','url','tags','reviews_url','specs','early_access',], axis=1, inplace=True)"
   ]
  },
  {
   "cell_type": "code",
   "execution_count": null,
   "metadata": {},
   "outputs": [],
   "source": [
    "# Eliminación de Filas con todos sus Valores Nulos\n",
    "Df_Games.dropna(inplace=True)\n",
    "Df_Games.head()"
   ]
  },
  {
   "cell_type": "code",
   "execution_count": null,
   "metadata": {},
   "outputs": [],
   "source": [
    "# Se visualizan los datos de la columna RELEASE DATE\n",
    "unique_value = Df_Games['release_date'].unique()\n",
    "for i in unique_value:\n",
    "    print(i)"
   ]
  },
  {
   "cell_type": "code",
   "execution_count": null,
   "metadata": {},
   "outputs": [],
   "source": [
    "# Se convierte la columna RELEASE DATE a tipo datetime\n",
    "Df_Games['release_date'] = pd.to_datetime(Df_Games['release_date'], errors= 'coerce')\n",
    "Df_Games['release_date']"
   ]
  },
  {
   "cell_type": "code",
   "execution_count": null,
   "metadata": {},
   "outputs": [],
   "source": [
    "# Se extrae el año y se crea una nueva columna release_year\n",
    "Df_Games['release_year'] = Df_Games['release_date'].dt.year.astype('Int64')\n",
    "# Se elimina la columna RELEASE_DATE \n",
    "Df_Games = Df_Games.drop(columns=['release_date'])\n",
    "# Se rellena con la media los valores faltantes de la columna release_year\n",
    "Df_Games['release_year'] = Df_Games['release_year'].fillna(Df_Games['release_year'].median())"
   ]
  },
  {
   "cell_type": "code",
   "execution_count": null,
   "metadata": {},
   "outputs": [],
   "source": [
    "# Se reinicia el índice del DataFrame después de realizar manipulaciones de datos para organizar y actualizar su estructura.\n",
    "Df_Games.reset_index(drop=True, inplace=True)"
   ]
  },
  {
   "cell_type": "code",
   "execution_count": null,
   "metadata": {},
   "outputs": [],
   "source": [
    "# Transformamos la columna 'genres' convirtiéndola en listas, desplegamos esas listas y luego utilizamos 'get_dummies' para asignar valores numéricos a cada elemento en esas listas.\n",
    "Df_genres = pd.DataFrame(Df_Games['genres'].tolist())\n",
    "Df_genres_obj = Df_genres.stack()\n",
    "Df_genres_1 = pd.get_dummies(Df_genres_obj)\n",
    "Df_genres_1 = Df_genres_1.groupby(level=[0]).sum()\n",
    "genres = Df_genres_1 "
   ]
  },
  {
   "cell_type": "code",
   "execution_count": null,
   "metadata": {},
   "outputs": [],
   "source": [
    "genres = Df_genres_1\n",
    "Df_genres_1.head(1)"
   ]
  },
  {
   "cell_type": "code",
   "execution_count": null,
   "metadata": {},
   "outputs": [],
   "source": [
    "# Resetear los índices de ambos DataFrames\n",
    "Df_Games.reset_index(drop=True, inplace=True)\n",
    "genres.reset_index(drop=True, inplace=True)"
   ]
  },
  {
   "cell_type": "code",
   "execution_count": null,
   "metadata": {},
   "outputs": [],
   "source": [
    "# Combinamos dos DataFrames y eliminamos la columna de 'genres'.\n",
    "Df_Games = pd.concat([Df_Games, genres],axis=1)\n",
    "Df_Games.drop(columns=['genres'],inplace=True)\n",
    "Df_Games.dropna(subset='Indie',inplace=True)"
   ]
  },
  {
   "cell_type": "code",
   "execution_count": null,
   "metadata": {},
   "outputs": [],
   "source": [
    "# Convertir la columna PRICE a tipo numérico\n",
    "Df_Games['price']= pd.to_numeric(Df_Games['price'], errors='coerce')\n",
    "# Convertir la columna ID a tipo entero\n",
    "Df_Games['id']= Df_Games['id'].astype('Int64')"
   ]
  },
  {
   "cell_type": "code",
   "execution_count": null,
   "metadata": {},
   "outputs": [],
   "source": [
    "# Se guardan los datos limpios en un CSV para su posterior manipulación\n",
    "Df_Games.to_csv('Output_steam_games_new.csv', index=False)"
   ]
  },
  {
   "cell_type": "markdown",
   "metadata": {},
   "source": [
    "2. Apertura y visualizacion Segundo archivo JSON."
   ]
  },
  {
   "cell_type": "code",
   "execution_count": null,
   "metadata": {},
   "outputs": [],
   "source": [
    "# Apertura y visualización del archivo australian_users_items\n",
    "with open ('./file_json/australian_users_items.json', 'r', encoding='utf-8') as file:\n",
    "    data = file.readlines()\n",
    "registros = [eval(line.strip()) for line in data]\n",
    "Df_Items = pd.DataFrame(registros)\n",
    "Df_Items.head()"
   ]
  },
  {
   "cell_type": "code",
   "execution_count": null,
   "metadata": {},
   "outputs": [],
   "source": [
    "# La columna 'Items' está anidada, se procesa para extraer información específica y estructurarla en nuevas columnas\n",
    "Df_Items['playtime_forever'] = Df_Items['items'].apply(lambda x: x[0].get('playtime_forever') if len(x) > 0 else 0)\n",
    "Df_Items['playtime_2weeks'] = Df_Items['items'].apply(lambda x: x[0].get('playtime_2weeks') if len(x) > 0 else 0)\n",
    "Df_Items['id'] = Df_Items['items'].apply(lambda x: x[0].get('item_id') if len(x) > 0 else 0)\n",
    "Df_Items['id'] = Df_Items['id'].astype(int)\n",
    "Df_Items['playtime_forever'] = Df_Items['playtime_forever'].astype(int)\n",
    "Df_Items[']playtime_2weeks'] = Df_Items['playtime_2weeks'].astype(int)\n",
    "Df_Items.head()"
   ]
  },
  {
   "cell_type": "code",
   "execution_count": null,
   "metadata": {},
   "outputs": [],
   "source": [
    "# Se eliminan las columnas que no seran utilizadas para el proceso de modelado\n",
    "Df_Items.drop(['items','items_count','user_url'], axis=1, inplace=True)"
   ]
  },
  {
   "cell_type": "code",
   "execution_count": null,
   "metadata": {},
   "outputs": [],
   "source": [
    "# Verificar registros duplicados \n",
    "duplicados = Df_Items.duplicated()\n",
    "# Eliminar registros duplicados\n",
    "Df_Items = Df_Items.drop_duplicates()\n",
    "# Eliminar registros nulos\n",
    "Df_Items = Df_Items.dropna(how='all')"
   ]
  },
  {
   "cell_type": "code",
   "execution_count": null,
   "metadata": {},
   "outputs": [],
   "source": [
    "# Eliminar los registros con valor 0 en la columna playtime_forever\n",
    "Df_Items = Df_Items.drop(Df_Items[Df_Items['playtime_forever'] == 0].index)\n",
    "Df_Items.tail()"
   ]
  },
  {
   "cell_type": "code",
   "execution_count": null,
   "metadata": {},
   "outputs": [],
   "source": [
    "# Se guardan los datos limpios en un CSV para su posterior manipulación\n",
    "Df_Items.to_csv('australian_user_items_new.csv', index=False)"
   ]
  },
  {
   "cell_type": "markdown",
   "metadata": {},
   "source": [
    "3. Apertura y visualizacion Tercer archivo JSON."
   ]
  },
  {
   "cell_type": "code",
   "execution_count": null,
   "metadata": {},
   "outputs": [],
   "source": [
    "# Apertura y visualización del archivo australian_user_reviews\n",
    "user_reviews = []\n",
    "with open ('./file_json/australian_user_reviews.json', 'r', encoding='utf-8') as file:\n",
    "    data = file.readlines()\n",
    "registros = [eval(line.strip()) for line in data]\n",
    "Df_reviews = pd.DataFrame(registros)\n",
    "Df_reviews.head()"
   ]
  },
  {
   "cell_type": "code",
   "execution_count": null,
   "metadata": {},
   "outputs": [],
   "source": [
    "# La columna 'reviews' tiene datos anidados, por lo que es necesario desglosarla para generar nuevas filas para cada elemento contenido en ella.\n",
    "Df_reviews = Df_reviews.explode('reviews', ignore_index=True)\n",
    "Df_reviews_new = json_normalize(Df_reviews['reviews'])"
   ]
  },
  {
   "cell_type": "code",
   "execution_count": null,
   "metadata": {},
   "outputs": [],
   "source": [
    "# Se combinan los DataFrames\n",
    "Df_reviews = Df_reviews.join(Df_reviews_new)\n",
    "Df_reviews.head()"
   ]
  },
  {
   "cell_type": "code",
   "execution_count": null,
   "metadata": {},
   "outputs": [],
   "source": [
    "# Se eliminan las columnas que no seran utilizadas para el proceso de modelado\n",
    "Df_reviews.drop(['user_url','reviews', 'funny', 'last_edited', 'helpful'], axis=1, inplace=True)"
   ]
  },
  {
   "cell_type": "code",
   "execution_count": null,
   "metadata": {},
   "outputs": [],
   "source": [
    "# Se identifican registros duplicados y los eliminamos\n",
    "duplicados = Df_reviews.duplicated()\n",
    "Df_reviews = Df_reviews.drop_duplicates()\n",
    "# Se eliminan los registros nulos\n",
    "Df_reviews = Df_reviews.dropna(how='all')"
   ]
  },
  {
   "cell_type": "code",
   "execution_count": null,
   "metadata": {},
   "outputs": [],
   "source": [
    "# Se extrae el año de la columna posted\n",
    "# Me aseguro que 'posted' sea de tipo datetime\n",
    "Df_reviews['posted'] = pd.to_datetime(Df_reviews['posted'].astype(str).str.replace(r'Posted |,|\\.', '', regex=True), errors='coerce')\n",
    "# Crea la columna 'year' a partir de 'posted'\n",
    "Df_reviews['year'] = Df_reviews['posted'].dt.year.astype('Int64')\n",
    "Df_reviews.head()"
   ]
  },
  {
   "cell_type": "code",
   "execution_count": null,
   "metadata": {},
   "outputs": [],
   "source": [
    "#Se eliminan los nulos de year\n",
    "Df_reviews.dropna(subset='year', inplace=True)"
   ]
  },
  {
   "cell_type": "code",
   "execution_count": null,
   "metadata": {},
   "outputs": [],
   "source": [
    "#Se crea una función para detectar el sentimiento\n",
    "def sentimiento(texto):\n",
    "        analisis = TextBlob(texto)\n",
    "        #Se obtiene la polaridad\n",
    "        polaridad = analisis.sentiment.polarity\n",
    "        if polaridad < 0:\n",
    "            return 0  # Negativo\n",
    "        elif polaridad > 0:\n",
    "            return 2  # Positivo\n",
    "        else:\n",
    "            return 1 # Neutro"
   ]
  },
  {
   "cell_type": "code",
   "execution_count": null,
   "metadata": {},
   "outputs": [],
   "source": [
    "# Se crea la columna sentiment\n",
    "Df_reviews['sentiment'] = Df_reviews['review'].apply(sentimiento)\n",
    "Df_reviews.head()"
   ]
  },
  {
   "cell_type": "code",
   "execution_count": null,
   "metadata": {},
   "outputs": [],
   "source": [
    "# Se guardan los datos limpios en un CSV para su posterior manipulación\n",
    "Df_reviews.to_csv('australian_user_reviews_new.csv', index=False)"
   ]
  },
  {
   "cell_type": "code",
   "execution_count": 34,
   "metadata": {},
   "outputs": [],
   "source": [
    "# Se unen los DataFrames \n",
    "# Se unen los dataframe games e items por su item_id. Y a su vez se une con el df reviews por el user_id\n",
    "Df1 = pd.merge(Df_Games, Df_Items,on='id')\n",
    "Df_General = pd.merge(Df1, Df_reviews,on='user_id')\n",
    "# Se guarda el archivo del DataFrame general\n",
    "Df_General.to_csv('Df_General.csv', index=False)\n",
    "Df_General.to_parquet('Df_General.parquet', index=False)"
   ]
  }
 ],
 "metadata": {
  "kernelspec": {
   "display_name": "Python 3",
   "language": "python",
   "name": "python3"
  },
  "language_info": {
   "codemirror_mode": {
    "name": "ipython",
    "version": 3
   },
   "file_extension": ".py",
   "mimetype": "text/x-python",
   "name": "python",
   "nbconvert_exporter": "python",
   "pygments_lexer": "ipython3",
   "version": "3.12.0"
  }
 },
 "nbformat": 4,
 "nbformat_minor": 2
}
