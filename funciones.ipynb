{
 "cells": [
  {
   "cell_type": "code",
   "execution_count": null,
   "metadata": {},
   "outputs": [],
   "source": [
    "# Importar librerías\n",
    "import pandas as pd # Se usa para la lectura y escritura de datos, manipulación de marcos de datos, limpieza y preprocesamiento de datos.\n",
    "import numpy as np # Se usa para manipulación de matrices, álgebra lineal, generación de números aleatorios.\n",
    "import matplotlib.pyplot as plt # Se usa para creación de gráficos de líneas, histogramas, dispersión.\n",
    "import seaborn as sns # Se usa para crear visualizaciones estadísticas más atractivas y detalladas.\n",
    "from wordcloud import WordCloud # Se usa para la visualización de palabras clave en función de su frecuencia en un conjunto de texto.\n",
    "import nltk # Se usa para entender y procesar el lenguaje escrito de una manera más fácil y efectiva\n",
    "from typing import Dict\n",
    "import warnings # Se usa para el control de advertencias para mejorar la legibilidad y depuración del código.\n",
    "from sklearn.metrics.pairwise import cosine_similarity # Es un sistemas de recomendación, procesamiento de texto, y otros contextos donde se necesita medir la similitud entre elementos.\n",
    "from sklearn.metrics.pairwise import linear_kernel # Es utilizada en contextos de aprendizaje automático y minería de datos.\n",
    "from sklearn.feature_extraction.text import TfidfVectorizer # Preprocesamiento de texto para tareas de aprendizaje automático, como la clasificación de texto o la agrupación de documentos.\n",
    "from collections import Counter"
   ]
  },
  {
   "cell_type": "code",
   "execution_count": null,
   "metadata": {},
   "outputs": [],
   "source": [
    "# Lectura y visualización de archivos\n",
    "# Df_General = pd.read_parquet('Df_General.parquet')\n",
    "Df_muestra = pd.read_parquet('Df_muestra.parquet')\n",
    "# Se crea una muestra de 20000 datos para poder realizar las consultas\n",
    "# Df_muestra = Df_General.head(20000)\n",
    "# Guardar la muestra en un nuevo archivo parquet\n",
    "# Df_muestra.to_parquet('Df_Muestra.parquet', index=False)\n",
    "# Guardar la muestra en un nuevo archivo CSV\n",
    "# Df_muestra.to_csv('Df_Muestra.csv', index=False)\n",
    "Df_muestra.head(1)\n",
    "# Df_General['id'].unique()\n",
    "# Df_General['year'].unique()\n",
    "# Df_General.info()"
   ]
  },
  {
   "cell_type": "markdown",
   "metadata": {},
   "source": [
    "CREACIÓN DE FUNCIONES"
   ]
  },
  {
   "cell_type": "code",
   "execution_count": null,
   "metadata": {},
   "outputs": [],
   "source": [
    "# Función N°1. Proporciona el año en el que se registró la mayor cantidad de horas de juego para un género específico.\n",
    "def PlayTimeGenre(genre: str):\n",
    "    # Filtrar los datos por el género proporcionado\n",
    "    df_genres = Df_muestra[Df_muestra[genre] == 1]\n",
    "    # Agrupar por año y calcular la suma de las horas jugadas\n",
    "    sum_year_playtime = df_genres.groupby('release_year')['playtime_forever'].sum()\n",
    "    # Encontrar el año con la mayor suma de horas jugadas\n",
    "    max_year = sum_year_playtime.idxmax()\n",
    "    # Retornar el resultado en un diccionario\n",
    "    result = {\n",
    "        \"Año de lanzamiento con más horas jugadas para género\": genre,\n",
    "        \"Año\": int(max_year),\n",
    "        \"Horas Jugadas\": int(sum_year_playtime[max_year])\n",
    "    }\n",
    "    return result\n",
    "\n",
    "PlayTimeGenre('Action')"
   ]
  },
  {
   "cell_type": "code",
   "execution_count": null,
   "metadata": {},
   "outputs": [],
   "source": [
    "# Función N°2. Devuelve el usuario que tiene la mayor cantidad de horas de juego en un género específico\n",
    "def UserForGenre(genero: str) -> dict:\n",
    "    df_genres = Df_muestra[Df_muestra[genero] == 1]\n",
    "    agg_df = df_genres.groupby('release_year').agg({'user_id': 'max', 'playtime_forever': 'sum'}).reset_index()\n",
    "    playtime_list = agg_df.to_dict(orient='records')\n",
    "\n",
    "    result = {\n",
    "        \"Usuario con más horas jugadas para Género \" + genero: \n",
    "        df_genres.loc[df_genres['playtime_forever'].idxmax(), 'user_id'],\n",
    "        \"Horas jugadas\": playtime_list\n",
    "    }\n",
    "    return result\n",
    "UserForGenre('Action')"
   ]
  },
  {
   "cell_type": "code",
   "execution_count": 15,
   "metadata": {},
   "outputs": [
    {
     "data": {
      "text/plain": [
       "{'Top 3 de los juegos MÁS recomendados por el año 2012': [{'1': \"Name = Garry's Mod\"},\n",
       "  {'2': 'Name = Day of Defeat: Source'},\n",
       "  {'3': 'Name = Half-Life'}]}"
      ]
     },
     "execution_count": 15,
     "metadata": {},
     "output_type": "execute_result"
    }
   ],
   "source": [
    "# Función N°3 Devuelve el top 3 de juegos MÁS recomendados por usuarios para el año dado.\n",
    "def UsersRecommend(year : int):\n",
    "\n",
    "    if year >= 2010 and year <= 2015:\n",
    "        filtrado = Df_muestra[Df_muestra['year'] == year]\n",
    "        filtrado = filtrado[filtrado['sentiment'].isin([1, 2])]\n",
    "        conteo = filtrado.groupby('app_name')['recommend'].sum().reset_index()\n",
    "        top_3 = conteo.nlargest(3, 'recommend')\n",
    "        return {\n",
    "            f\"Top 3 de los juegos MÁS recomendados por el año {year}\":\n",
    "            [\n",
    "                {'1': f\"Name = {str(top_3['app_name'].iloc[0])}\"},\n",
    "                {'2': f\"Name = {str(top_3['app_name'].iloc[1])}\"},\n",
    "                {'3': f\"Name = {str(top_3['app_name'].iloc[2])}\"}\n",
    "            ]\n",
    "        }\n",
    "    else:\n",
    "        return {f'Año no encontrado'}\n",
    "    \n",
    "UsersRecommend(2012)"
   ]
  },
  {
   "cell_type": "code",
   "execution_count": 10,
   "metadata": {},
   "outputs": [
    {
     "data": {
      "text/plain": [
       "{'top3_desarrolladoras_menos_recomendadas': [{'developer': 'Facepunch Studios',\n",
       "   'recommend': 1.0},\n",
       "  {'developer': 'Valve', 'recommend': 1.0}]}"
      ]
     },
     "execution_count": 10,
     "metadata": {},
     "output_type": "execute_result"
    }
   ],
   "source": [
    "\n",
    "# Función N°4 Devuelve el top 3 de desarrolladoras con juegos MENOS recomendados por usuarios para el año dado.\n",
    "def UsersWorstDeveloper(year: int):\n",
    "    # Filtra el DataFrame por el año dado\n",
    "    filtrado = Df_muestra[Df_muestra['year'] == year]\n",
    "    # Agrupa por desarrolladora y calcula la media de las recomendaciones\n",
    "    df_agrupado = filtrado.groupby('developer')['recommend'].mean().reset_index()\n",
    "    # Ordena en orden ascendente (menor recomendación primero) y toma las primeras 3 desarrolladoras\n",
    "    top3_desarrolladoras = df_agrupado.sort_values(by='developer').head(3)\n",
    "\n",
    "    return {\"top3_desarrolladoras_menos_recomendadas\": top3_desarrolladoras.to_dict(orient='records')}\n",
    "UsersWorstDeveloper(2010)"
   ]
  },
  {
   "cell_type": "code",
   "execution_count": 16,
   "metadata": {},
   "outputs": [
    {
     "data": {
      "text/plain": [
       "{2007: {'Negative': 54, 'Neutral': 42, 'Positive': 146}}"
      ]
     },
     "execution_count": 16,
     "metadata": {},
     "output_type": "execute_result"
    }
   ],
   "source": [
    "# Función N°5 Analisis de sentimiento\n",
    "def sentiment_analysis(año_de_lanzamiento:int) -> Dict[int, Dict[str, int]]:\n",
    "        df = Df_muestra[Df_muestra['release_year'] == año_de_lanzamiento]\n",
    "        sentiment_counts = df['sentiment'].value_counts()\n",
    "        result = {año_de_lanzamiento: {\n",
    "            'Negative': sentiment_counts.get(0, 0),\n",
    "            'Neutral' : sentiment_counts.get(1, 0),\n",
    "            'Positive': sentiment_counts.get(2, 0)\n",
    "        }}\n",
    "\n",
    "        return result\n",
    "sentiment_analysis(2007)"
   ]
  },
  {
   "cell_type": "markdown",
   "metadata": {},
   "source": [
    "MODELO DE MACHINE LEARNING - Recomendación user-item"
   ]
  },
  {
   "cell_type": "code",
   "execution_count": 20,
   "metadata": {},
   "outputs": [
    {
     "data": {
      "text/plain": [
       "{'juegos recomendados': ['Half-Life 2',\n",
       "  'Day of Defeat: Source',\n",
       "  'Empire: Total War™',\n",
       "  \"Garry's Mod\",\n",
       "  'Day of Defeat: Source']}"
      ]
     },
     "execution_count": 20,
     "metadata": {},
     "output_type": "execute_result"
    }
   ],
   "source": [
    "# Se crea el modelo de machine learning con Scikit-Learn\n",
    "tfidf = TfidfVectorizer(stop_words='english')\n",
    "Df_muestra=Df_muestra.fillna(\"\")\n",
    "\n",
    "tdfid_matrix = tfidf.fit_transform(Df_muestra['review'])\n",
    "cosine_similarity = linear_kernel( tdfid_matrix, tdfid_matrix)\n",
    "\n",
    "\n",
    "# Se crea la funcion de recomendación de 5 juegos recomendados para el usuario ingresado.\n",
    "def recomendacion_usuario(id: int):\n",
    "    if id not in Df_muestra['id'].values:\n",
    "        return {'mensaje': 'No existe el id del usuario.'}\n",
    "    titulo = Df_muestra.loc[Df_muestra['id'] == id, 'app_name'].iloc[0]\n",
    "    sim_juegos = obtener_juegos_similares(titulo)\n",
    "    \n",
    "    return {'juegos recomendados': sim_juegos}\n",
    "\n",
    "def obtener_juegos_similares(titulo: str, num_recomendaciones: int = 5):\n",
    "    idx = Df_muestra[Df_muestra['app_name'] == titulo].index[0]\n",
    "    sim_cosine = list(enumerate(cosine_similarity[idx]))\n",
    "    sim_scores = sorted(sim_cosine, key=lambda x: x[1], reverse=True)\n",
    "    sim_ind = [i for i, _ in sim_scores[1:num_recomendaciones + 1]]\n",
    "    sim_juegos = Df_muestra['app_name'].iloc[sim_ind].values.tolist()\n",
    "    \n",
    "    return sim_juegos\n",
    "recomendacion_usuario(220)"
   ]
  },
  {
   "cell_type": "code",
   "execution_count": null,
   "metadata": {},
   "outputs": [],
   "source": []
  }
 ],
 "metadata": {
  "kernelspec": {
   "display_name": "Python 3",
   "language": "python",
   "name": "python3"
  },
  "language_info": {
   "codemirror_mode": {
    "name": "ipython",
    "version": 3
   },
   "file_extension": ".py",
   "mimetype": "text/x-python",
   "name": "python",
   "nbconvert_exporter": "python",
   "pygments_lexer": "ipython3",
   "version": "3.12.0"
  }
 },
 "nbformat": 4,
 "nbformat_minor": 2
}
