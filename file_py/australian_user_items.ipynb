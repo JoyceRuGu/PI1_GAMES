{
 "cells": [
  {
   "cell_type": "code",
   "execution_count": null,
   "metadata": {},
   "outputs": [],
   "source": [
    "# Importar librerias\n",
    "import pandas as pd\n",
    "from pandas import json_normalize\n",
    "import numpy as np\n",
    "import json"
   ]
  },
  {
   "cell_type": "code",
   "execution_count": null,
   "metadata": {},
   "outputs": [],
   "source": [
    "# Apertura y visualización del archivo australian_users_items\n",
    "with open ('./file_json/australian_users_items.json', 'r', encoding='utf-8') as file:\n",
    "    data = file.readlines()\n",
    "registros = [eval(line.strip()) for line in data]\n",
    "Df_Items = pd.DataFrame(registros)\n",
    "Df_Items.head()"
   ]
  },
  {
   "cell_type": "code",
   "execution_count": null,
   "metadata": {},
   "outputs": [],
   "source": [
    "Df_Items['playtime_forever'] = Df_Items['items'].apply(lambda x: x[0].get('playtime_forever') if len(x) > 0 else 0)\n",
    "Df_Items['playtime_2weeks'] = Df_Items['items'].apply(lambda x: x[0].get('playtime_2weeks') if len(x) > 0 else 0)\n",
    "Df_Items['id'] = Df_Items['items'].apply(lambda x: x[0].get('item_id') if len(x) > 0 else 0)\n",
    "Df_Items['id'] = Df_Items['id'].astype(int)\n",
    "Df_Items['playtime_forever'] = Df_Items['playtime_forever'].astype(int)\n",
    "Df_Items[']playtime_2weeks'] = Df_Items['playtime_2weeks'].astype(int)\n",
    "Df_Items.head()"
   ]
  },
  {
   "cell_type": "code",
   "execution_count": null,
   "metadata": {},
   "outputs": [],
   "source": [
    "# La columna 'Items' está anidada, por lo que es necesario realizar una normalización para obtener una columna separada para cada clave del diccionario.\n",
    "Df_Items = pd.json_normalize(registros, record_path=['items'], meta=['user_id', 'items_count', 'steam_id', 'user_url'])\n",
    "Df_Items"
   ]
  },
  {
   "cell_type": "code",
   "execution_count": null,
   "metadata": {},
   "outputs": [],
   "source": [
    "# Se eliminan las columnas que no seran utilizadas para el proceso de modelado\n",
    "Df_Items.drop(['items','items_count','user_url'], axis=1, inplace=True)"
   ]
  },
  {
   "cell_type": "code",
   "execution_count": null,
   "metadata": {},
   "outputs": [],
   "source": [
    "# Verificar registros duplicados \n",
    "duplicados = Df_Items.duplicated()\n",
    "# Eliminar registros duplicados\n",
    "Df_Items = Df_Items.drop_duplicates()\n",
    "# Eliminar registros nulos\n",
    "Df_Items = Df_Items.dropna(how='all')"
   ]
  },
  {
   "cell_type": "code",
   "execution_count": null,
   "metadata": {},
   "outputs": [],
   "source": [
    "# Eliminar los registros con valor 0 en la columna playtime_forever\n",
    "Df_Items = Df_Items.drop(Df_Items[Df_Items['playtime_forever'] == 0].index)\n",
    "Df_Items.tail()"
   ]
  },
  {
   "cell_type": "code",
   "execution_count": null,
   "metadata": {},
   "outputs": [],
   "source": [
    "Df_Items.info()\n",
    "Df_Items.isnull().sum()"
   ]
  },
  {
   "cell_type": "code",
   "execution_count": null,
   "metadata": {},
   "outputs": [],
   "source": [
    "# Se guardan los datos limpios en un CSV para su posterior manipulación\n",
    "Df_Items.to_csv('australian_user_items_new.csv', index=False)"
   ]
  }
 ],
 "metadata": {
  "kernelspec": {
   "display_name": "Python 3",
   "language": "python",
   "name": "python3"
  },
  "language_info": {
   "codemirror_mode": {
    "name": "ipython",
    "version": 3
   },
   "file_extension": ".py",
   "mimetype": "text/x-python",
   "name": "python",
   "nbconvert_exporter": "python",
   "pygments_lexer": "ipython3",
   "version": "3.11.4"
  }
 },
 "nbformat": 4,
 "nbformat_minor": 2
}
