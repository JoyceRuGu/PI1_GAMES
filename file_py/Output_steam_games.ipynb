{
 "cells": [
  {
   "cell_type": "code",
   "execution_count": null,
   "metadata": {},
   "outputs": [],
   "source": [
    "# Importar librerias\n",
    "import pandas as pd\n",
    "import numpy as np\n",
    "import json"
   ]
  },
  {
   "cell_type": "markdown",
   "metadata": {
    "slideshow": {
     "slide_type": "slide"
    }
   },
   "source": [
    "1. Apertura y visualizacion primer archivo JSON."
   ]
  },
  {
   "cell_type": "code",
   "execution_count": null,
   "metadata": {},
   "outputs": [],
   "source": [
    "# Apertura del archivo output_steam_games\n",
    "Df_Games = pd.read_json('./file_json/output_steam_games.json', lines= True)\n",
    "# Visualización del DataFrame\n",
    "Df_Games.head()\n"
   ]
  },
  {
   "cell_type": "code",
   "execution_count": null,
   "metadata": {},
   "outputs": [],
   "source": [
    "# Información general de los datos cargados en el DataFrame\n",
    "Df_Games.info()"
   ]
  },
  {
   "cell_type": "markdown",
   "metadata": {},
   "source": [
    "3.Exploracion y limpieza de datos"
   ]
  },
  {
   "cell_type": "code",
   "execution_count": null,
   "metadata": {},
   "outputs": [],
   "source": [
    "# Se eliminan las columnas que no seran utilizadas para el proceso de modelado\n",
    "Df_Games.drop(['publisher','title','url','tags','reviews_url','specs','early_access',], axis=1, inplace=True)"
   ]
  },
  {
   "cell_type": "code",
   "execution_count": null,
   "metadata": {},
   "outputs": [],
   "source": [
    "# Eliminación de Filas con todos sus Valores Nulos\n",
    "Df_Games.dropna(inplace=True)\n",
    "Df_Games.head()"
   ]
  },
  {
   "cell_type": "code",
   "execution_count": null,
   "metadata": {},
   "outputs": [],
   "source": [
    "# Se visualizan los datos de la columna RELEASE DATE\n",
    "unique_value = Df_Games['release_date'].unique()\n",
    "for i in unique_value:\n",
    "    print(i) "
   ]
  },
  {
   "cell_type": "code",
   "execution_count": null,
   "metadata": {},
   "outputs": [],
   "source": [
    "# Se convierte la columna RELEASE DATE a tipo datetime\n",
    "Df_Games['release_date'] = pd.to_datetime(Df_Games['release_date'], errors= 'coerce')\n",
    "Df_Games['release_date']"
   ]
  },
  {
   "cell_type": "code",
   "execution_count": null,
   "metadata": {},
   "outputs": [],
   "source": [
    "# Se extrae el año y se crea una nueva columna release_year\n",
    "Df_Games['release_year'] = Df_Games['release_date'].dt.year.astype('Int64')\n",
    "# Se elimina la columna RELEASE_DATE \n",
    "Df_Games = Df_Games.drop(columns=['release_date'])\n",
    "# Se rellena con la media los valores faltantes de la columna release_year\n",
    "Df_Games['release_year'] = Df_Games['release_year'].fillna(Df_Games['release_year'].median())"
   ]
  },
  {
   "cell_type": "code",
   "execution_count": null,
   "metadata": {},
   "outputs": [],
   "source": [
    "# Se reinicia el índice del DataFrame después de realizar manipulaciones de datos para organizar y actualizar su estructura.\n",
    "Df_Games.reset_index(drop=True, inplace=True)"
   ]
  },
  {
   "cell_type": "code",
   "execution_count": null,
   "metadata": {},
   "outputs": [],
   "source": [
    "# Transformamos la columna 'genres' convirtiéndola en listas, desplegamos esas listas y luego utilizamos 'get_dummies' para asignar valores numéricos a cada elemento en esas listas.\n",
    "Df_genres = pd.DataFrame(Df_Games['genres'].tolist())\n",
    "Df_genres_obj = Df_genres.stack()\n",
    "Df_genres_1 = pd.get_dummies(Df_genres_obj)\n",
    "Df_genres_1 = Df_genres_1.groupby(level=[0]).sum()\n",
    "genres = Df_genres_1 "
   ]
  },
  {
   "cell_type": "code",
   "execution_count": null,
   "metadata": {},
   "outputs": [],
   "source": [
    "genres = Df_genres_1\n",
    "Df_genres_1.head(1)"
   ]
  },
  {
   "cell_type": "code",
   "execution_count": null,
   "metadata": {},
   "outputs": [],
   "source": [
    "# Resetear los índices de ambos DataFrames\n",
    "Df_Games.reset_index(drop=True, inplace=True)\n",
    "genres.reset_index(drop=True, inplace=True)"
   ]
  },
  {
   "cell_type": "code",
   "execution_count": null,
   "metadata": {},
   "outputs": [],
   "source": [
    "# Combinamos dos DataFrames y eliminamos la columna de 'genres'.\n",
    "Df_Games = pd.concat([Df_Games, genres],axis=1)\n",
    "Df_Games.drop(columns=['genres'],inplace=True)\n",
    "Df_Games.dropna(subset='Indie',inplace=True)"
   ]
  },
  {
   "cell_type": "code",
   "execution_count": null,
   "metadata": {},
   "outputs": [],
   "source": [
    "# Convertir la columna PRICE a tipo numérico\n",
    "Df_Games['price']= pd.to_numeric(Df_Games['price'], errors='coerce')\n",
    "# Convertir la columna ID a tipo entero\n",
    "Df_Games['id']= Df_Games['id'].astype('Int64')"
   ]
  },
  {
   "cell_type": "code",
   "execution_count": null,
   "metadata": {},
   "outputs": [],
   "source": [
    "Df_Games.tail()\n",
    "Df_Games.info()"
   ]
  },
  {
   "cell_type": "code",
   "execution_count": null,
   "metadata": {},
   "outputs": [],
   "source": [
    "# Se guardan los datos limpios en un CSV para su posterior manipulación\n",
    "Df_Games.to_csv('Output_steam_games_new.csv', index=False)"
   ]
  }
 ],
 "metadata": {
  "kernelspec": {
   "display_name": "Python 3",
   "language": "python",
   "name": "python3"
  },
  "language_info": {
   "codemirror_mode": {
    "name": "ipython",
    "version": 3
   },
   "file_extension": ".py",
   "mimetype": "text/x-python",
   "name": "python",
   "nbconvert_exporter": "python",
   "pygments_lexer": "ipython3",
   "version": "3.12.0"
  }
 },
 "nbformat": 4,
 "nbformat_minor": 2
}
